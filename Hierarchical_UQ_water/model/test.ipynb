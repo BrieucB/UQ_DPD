{
 "cells": [
  {
   "cell_type": "code",
   "execution_count": 1,
   "metadata": {},
   "outputs": [],
   "source": [
    "import numpy as np"
   ]
  },
  {
   "cell_type": "code",
   "execution_count": 2,
   "metadata": {},
   "outputs": [],
   "source": [
    "def soundCelerity(kBT, s, rho_s, rc, gamma, m, a):\n",
    "    alpha=0.103\n",
    "    return(np.sqrt(kBT/m + 2*alpha*rc**4*a*rho_s/m**2))"
   ]
  },
  {
   "cell_type": "code",
   "execution_count": 16,
   "metadata": {},
   "outputs": [
    {
     "data": {
      "text/plain": [
       "0.7923586935083542"
      ]
     },
     "execution_count": 16,
     "metadata": {},
     "output_type": "execute_result"
    }
   ],
   "source": [
    "kBT_s = 0.01\n",
    "Ti = 20.0\n",
    "T25 = 25.0\n",
    "rho_s = 3.0\n",
    "rc = 1.0\n",
    "m = 1.0\n",
    "\n",
    "power = 1\n",
    "gamma = 100\n",
    "a = 1\n",
    "\n",
    "soundCelerity(kBT_s*(Ti+273.15)/(T25+273.15), 2.*power, rho_s, rc, gamma, m, a)"
   ]
  },
  {
   "cell_type": "code",
   "execution_count": null,
   "metadata": {},
   "outputs": [],
   "source": []
  }
 ],
 "metadata": {
  "kernelspec": {
   "display_name": "Python 3",
   "language": "python",
   "name": "python3"
  },
  "language_info": {
   "codemirror_mode": {
    "name": "ipython",
    "version": 3
   },
   "file_extension": ".py",
   "mimetype": "text/x-python",
   "name": "python",
   "nbconvert_exporter": "python",
   "pygments_lexer": "ipython3",
   "version": "3.10.12"
  }
 },
 "nbformat": 4,
 "nbformat_minor": 2
}
